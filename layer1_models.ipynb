{
 "cells": [
  {
   "cell_type": "code",
   "execution_count": 131,
   "metadata": {},
   "outputs": [],
   "source": [
    "### IMPORTS ###\n",
    "import os, glob, re, time\n",
    "import numpy as np, pandas as pd\n",
    "import matplotlib.pyplot as plt\n",
    "import seaborn as sns\n",
    "import pickle as pkl\n",
    "import sklearn\n",
    "\n",
    "from sklearn.preprocessing import StandardScaler\n",
    "from sklearn.decomposition import PCA\n",
    "from sklearn.preprocessing import Binarizer\n",
    "from sklearn.model_selection import train_test_split, GridSearchCV\n",
    "from sklearn.model_selection import cross_validate\n",
    "from sklearn.model_selection import RandomizedSearchCV\n",
    "from sklearn.model_selection import StratifiedKFold\n",
    "\n",
    "## Models\n",
    "from sklearn.linear_model import LogisticRegression\n",
    "from sklearn.neighbors import KNeighborsClassifier # KNN c\n",
    "from sklearn.tree import DecisionTreeClassifier\n",
    "from sklearn.ensemble import RandomForestClassifier\n",
    "from sklearn.ensemble import ExtraTreesClassifier\n",
    "from sklearn.neural_network import MLPClassifier\n",
    "from xgboost import XGBClassifier\n",
    "from xgboost import plot_importance\n",
    "import lightgbm as lgb\n",
    "\n",
    "## Evaluation\n",
    "from sklearn.metrics import roc_curve, auc, confusion_matrix, classification_report\n",
    "from sklearn.metrics import f1_score\n",
    "from sklearn.metrics import accuracy_score"
   ]
  },
  {
   "cell_type": "code",
   "execution_count": 230,
   "metadata": {},
   "outputs": [],
   "source": [
    "### GLOBAL VARIABLES ###\n",
    "RAND_STATE = 0\n",
    "N_FOLDS = 5\n",
    "\n",
    "### FUNCTIONS ###\n",
    "def getPredictions(X):\n",
    "    \"\"\" Converts probabilities in df to labels\n",
    "    Args:\n",
    "        X (dataframe): Columns correponds to probabilities of different models\n",
    "    Returns:\n",
    "        dataframe: Predicted labels (0 or 1)\n",
    "    \"\"\"\n",
    "    predictions = np.zeros(X.shape)\n",
    "    predictions[X > 0.5] = 1\n",
    "    return pd.DataFrame(predictions, columns=list(X))\n",
    "  \n",
    "def getNCombinations(params_grid):\n",
    "    '''Calculates number of all possible combinations'''\n",
    "    list_lengths = [len(x) for x in params_grid.values()]\n",
    "    return np.prod(list_lengths)\n",
    "  \n",
    "def runRandSearchCV(model, params_grid, params_search,\n",
    "                    X_alltrain, y_alltrain, filename):\n",
    "    '''Run randomized cross-validation grid search and pickle best parameters'''\n",
    "    \n",
    "    print(\"Number of all possible combinations:\",\n",
    "          getNCombinations(params_grid))\n",
    "\n",
    "    # Random search of parameters across n_iter different\n",
    "    # combinations using all available cores\n",
    "    grid_search = RandomizedSearchCV(\n",
    "        estimator=model,\n",
    "        param_distributions=params_grid,\n",
    "        n_jobs=-1,\n",
    "        **params_search\n",
    "    )\n",
    "    grid_search.fit(X_alltrain, y_alltrain)\n",
    "    \n",
    "    print(\"Best parameters\")\n",
    "    print(grid_search.best_params_)\n",
    "    pkl_obj = [grid_search.best_params_, grid_search.cv_results_]\n",
    "    \n",
    "    params_wpath = os.path.join(\"dump/params/\", filename)\n",
    "    print(\"Saved parameters to:\", params_wpath)\n",
    "    with open(params_wpath, \"wb\") as f:\n",
    "        pkl.dump(pkl_obj, f)\n",
    "\n",
    "def runL1ModelCV(model, X_alltrain, y_alltrain, X_test=None, filename=None,\n",
    "                 best_threshold=False, n_folds=N_FOLDS, random_state=RAND_STATE,\n",
    "                 algorithm=\"others\", **kwargs):\n",
    "    '''Performs cross-validation on L1 model to 1) calculate early stopping number\n",
    "    2) determine optimal prediction threshold 3) return CV metrics 4) predict test set\n",
    "    \n",
    "    Does not perform early_stopping_rounds when trained with entire training dataset!\n",
    "    '''\n",
    "    \n",
    "    skf = StratifiedKFold(n_splits=n_folds, shuffle=True,\n",
    "                          random_state=random_state)\n",
    "    \n",
    "    list_thresholds = []\n",
    "    list_accs = []\n",
    "    max_ntrees = 0 # Initialise max number of trees \n",
    "    for i, (train_idx, vld_idx) in enumerate(skf.split(X_alltrain, y_alltrain)):\n",
    "        print(\"#\"*10)\n",
    "        print(\"Fold\", i)\n",
    "        print(\"#\"*10)\n",
    "        X_train = X_alltrain.iloc[train_idx,:]\n",
    "        y_train = y_alltrain.iloc[train_idx]\n",
    "        X_vld = X_alltrain.iloc[vld_idx,:]\n",
    "        y_vld = y_alltrain.iloc[vld_idx]\n",
    "        \n",
    "        # MODEL FIT\n",
    "        if algorithm == \"others\":\n",
    "            model.fit(X_train, y_train)\n",
    "        elif algorithm == \"xgb\":\n",
    "            # XGBoost (cannot handle categorical features)\n",
    "            model.fit(X_train, y_train, eval_set=[(X_vld, y_vld)],\n",
    "                      early_stopping_rounds=10, **kwargs)            \n",
    "            # model.best_ntree_limit: best no. of trees\n",
    "            if model.best_ntree_limit > max_ntrees:\n",
    "                max_ntrees = model.best_ntree_limit\n",
    "        \n",
    "        elif algorithm == \"lgbm\":\n",
    "            # LightGBM\n",
    "            model.fit(X_train, y_train, eval_set=[(X_vld, y_vld)],\n",
    "                      early_stopping_rounds=10, **kwargs)\n",
    "            # model.best_iteration_ starts from iteration 1\n",
    "            if model.best_iteration_ > max_ntrees:\n",
    "                max_ntrees = model.best_iteration_\n",
    "        \n",
    "        elif algorithm == \"catboost\":\n",
    "            # CatBoost\n",
    "            model.fit(X_train, y_train, eval_set=[(X_vld, y_vld)],\n",
    "                      early_stopping_rounds=10, **kwargs)\n",
    "            # model.best_iteration_ starts from iteration 1\n",
    "            if model.best_iteration_ > max_ntrees:\n",
    "                max_ntrees = model.best_iteration_ + 1\n",
    "        \n",
    "        else:\n",
    "            raise ValueError(\"argument not in list of choices\")\n",
    "        \n",
    "        # MODEL PREDICT\n",
    "        p_train = model.predict_proba(X_train)[:,1]\n",
    "        ypred_train = (p_train > 0.5).astype(int)\n",
    "\n",
    "        p_vld = model.predict_proba(X_vld)[:,1]\n",
    "        ypred_vld = (p_vld > 0.5).astype(int)\n",
    "        \n",
    "        print(\"Train set:\")\n",
    "        print(confusion_matrix(y_train, ypred_train))\n",
    "        print(\"Accuracy = {:.3f}, F1 = {:.3f}\".format(\n",
    "            accuracy_score(y_train, ypred_train)*100,\n",
    "            f1_score(y_train, ypred_train)*100))\n",
    "\n",
    "        print(\"Validation set:\")\n",
    "        print(confusion_matrix(y_vld, ypred_vld))\n",
    "        print(\"Accuracy = {:.3f}, F1 = {:.3f}\".format(\n",
    "            accuracy_score(y_vld, ypred_vld)*100,\n",
    "            f1_score(y_vld, ypred_vld)*100))\n",
    "        \n",
    "        # Search for best threshold\n",
    "        threshold, acc = searchThreshold(p_vld, y_vld)\n",
    "        list_thresholds.append(threshold)\n",
    "        list_accs.append(acc)\n",
    "    \n",
    "    container = [list_thresholds, list_accs]\n",
    "    \n",
    "    if X_test is not None:\n",
    "        # Prediction of test set with model fitted on entire training set\n",
    "        if algorithm != \"others\":\n",
    "            # Change parameter if model is a gbm\n",
    "            n_trees = math.ceil(max_ntrees/100) * 100 # round up to nearest 100\n",
    "            print(\"Final model: {} trees\\n\".format(n_trees))\n",
    "            model.n_estimators = n_trees\n",
    "            container.append(n_trees) # return extra value\n",
    "        \n",
    "        # MODEL FIT: TEST\n",
    "        if algorithm in {\"lgbm\", \"catboost\"}:\n",
    "            # kwargs: cat_features, verbose (no early_stopping_rounds!)\n",
    "            model.fit(X_alltrain, y_alltrain, **kwargs)\n",
    "        else:\n",
    "            model.fit(X_alltrain, y_alltrain)\n",
    "        \n",
    "        # MODEL PREDICT: TEST\n",
    "        if best_threshold == False:\n",
    "            ypred_test = model.predict(X_test)\n",
    "        else:\n",
    "            p_test = model.predict_proba(X_test)[:,1]\n",
    "            # Prediction based on best threshold\n",
    "            binary_encoder = Binarizer(threshold=np.mean(list_thresholds))\n",
    "            ypred_threshold = binary_encoder.fit_transform(pd.DataFrame(p_test))\n",
    "            print(\"Final threshold = {:.5f}\".format(np.mean(list_thresholds)))\n",
    "            ypred_test = ypred_threshold.astype('int').ravel() # .ravel returns a view\n",
    "        \n",
    "        # SAVE FILE\n",
    "        if filename is not None:\n",
    "            print(ypred_test)\n",
    "            saveResult(ypred_test, filename)\n",
    "    \n",
    "    return container\n",
    "    \n",
    "def searchThreshold(p, y):\n",
    "    # Search for threshold that maximises accuracy\n",
    "    # No assumption of convexity in (f: threshold -> acc)\n",
    "    \n",
    "    p = pd.Series(p) # Explicit type conversion to pd.Series\n",
    "    \n",
    "    max_accuracy = 0\n",
    "    max_threshold = 0\n",
    "    for cut in p.sort_values():\n",
    "        binary_encoder = Binarizer(threshold=cut)\n",
    "        ypred_threshold = binary_encoder.fit_transform(pd.DataFrame(p))\n",
    "        acc = accuracy_score(y, ypred_threshold)\n",
    "        if max_accuracy < acc:\n",
    "            max_accuracy = acc\n",
    "            max_threshold = cut\n",
    "    \n",
    "    print(\"Best threshold: {:.4f} (Accuracy = {:.2f})\".format(\n",
    "        max_threshold, max_accuracy*100))\n",
    "    \n",
    "    return max_threshold, max_accuracy\n",
    "\n",
    "def plotROC(p, y):    \n",
    "    fpr, tpr, threshold = roc_curve(y, p, drop_intermediate=True)\n",
    "    AUC = auc(fpr, tpr)\n",
    "    \n",
    "    max_threshold, max_accuracy = searchThreshold(p, y)\n",
    "    \n",
    "    # Plot ROC curve\n",
    "    fig, ax = plt.subplots(1, 1, figsize=(6,6))\n",
    "    lab = \"ROC (AUC: {:.3f})\".format(AUC)\n",
    "    ax.plot(fpr, tpr, label=lab)\n",
    "    ax.scatter(fpr[threshold == max_threshold],\n",
    "               tpr[threshold == max_threshold])\n",
    "    ax.set_xlabel(\"FPR\")\n",
    "    ax.set_ylabel(\"TPR\")\n",
    "    ax.legend(loc=\"lower right\")\n",
    "    \n",
    "    plt.tight_layout()\n",
    "    plt.show()\n",
    "\n",
    "    return fig\n",
    "\n",
    "def saveResult(ypred_test, filename):\n",
    "    '''Saves predicted labels to csv file'''\n",
    "    # Size of test set is 24421\n",
    "    assert ypred_test.size == 24421\n",
    "    results_dict = {\n",
    "        \"id\": np.arange(1, ypred_test.size + 1),\n",
    "        \"prediction\": ypred_test\n",
    "    }\n",
    "    results = pd.DataFrame(results_dict)\n",
    "    \n",
    "    path = os.path.join(\"dump/submissions/\", filename)\n",
    "    print(\"Saved submission file to:\", path)\n",
    "    results.to_csv(path, index=False)   \n",
    "\n",
    "def saveL1Test(model, X_alltrain, y_alltrain, X_test, filename):\n",
    "    model.fit(X_alltrain, y_alltrain)\n",
    "    ypred_test = model.predict(X_test)\n",
    "    saveResult(ypred_test, filename)"
   ]
  },
  {
   "cell_type": "code",
   "execution_count": 212,
   "metadata": {},
   "outputs": [
    {
     "name": "stdout",
     "output_type": "stream",
     "text": [
      "(1000,)\n"
     ]
    }
   ],
   "source": [
    "binary_encoder = Binarizer(threshold=0.5)\n",
    "ypred_test = binary_encoder.fit_transform(pd.DataFrame(np.arange(1000)))\n",
    "print(ypred_test.ravel().shape)"
   ]
  },
  {
   "cell_type": "code",
   "execution_count": 21,
   "metadata": {},
   "outputs": [],
   "source": [
    "## Import y_alltrain\n",
    "TRAIN_RPATH = \"dump/data/nopp_alltrain.pkl\"\n",
    "with open(TRAIN_RPATH, \"rb\") as f:\n",
    "    _, y_alltrain = pkl.load(f)"
   ]
  },
  {
   "cell_type": "code",
   "execution_count": 22,
   "metadata": {},
   "outputs": [
    {
     "name": "stdout",
     "output_type": "stream",
     "text": [
      "(24421, 4)\n",
      "(24421, 4)\n"
     ]
    }
   ],
   "source": [
    "## Import L1 features\n",
    "L1_WPATH1 = \"dump/data/L1_wxpp1_pca.pkl\"\n",
    "with open(L1_WPATH1, \"rb\") as f:\n",
    "    pca_alltrain, pca_test = pkl.load(f)\n",
    "print(pca_alltrain.shape)\n",
    "print(pca_test.shape)"
   ]
  },
  {
   "cell_type": "markdown",
   "metadata": {},
   "source": [
    "### Import model probabilities"
   ]
  },
  {
   "cell_type": "code",
   "execution_count": 23,
   "metadata": {},
   "outputs": [
    {
     "name": "stdout",
     "output_type": "stream",
     "text": [
      "['nopp_et1', 'nopp_et2', 'nopp_lgbm1', 'nopp_lgbm2', 'nopp_rf1', 'nopp_rf2', 'nopp_xgb1', 'nopp_xgb2', 'wxpp_knn1']\n",
      "(24421, 9)\n",
      "(24421, 9)\n"
     ]
    }
   ],
   "source": [
    "RDIR = \"dump/proba/stack1/*\"\n",
    "list_files = glob.glob(RDIR)\n",
    "list_files.sort()\n",
    "\n",
    "model_names = [re.search(\".*/(.*).pkl\", rpath).group(1)\n",
    "               for rpath in list_files]\n",
    "print(model_names)\n",
    "allp_alltrain = pd.DataFrame(columns=model_names)\n",
    "allp_test = pd.DataFrame(columns=model_names)\n",
    "\n",
    "# Concatenate all probabilities to form dataframe\n",
    "for rpath, name in zip(list_files, model_names):\n",
    "    with open(rpath, \"rb\") as f:\n",
    "        p_alltrain, p_test = pkl.load(f)\n",
    "    allp_alltrain[name] = p_alltrain\n",
    "    allp_test[name] = p_test\n",
    "    \n",
    "print(allp_alltrain.shape)\n",
    "print(allp_test.shape)"
   ]
  },
  {
   "cell_type": "markdown",
   "metadata": {},
   "source": [
    "### Concatenate features and model outputs"
   ]
  },
  {
   "cell_type": "code",
   "execution_count": 8,
   "metadata": {},
   "outputs": [
    {
     "name": "stdout",
     "output_type": "stream",
     "text": [
      "(24421, 13)\n",
      "(24421, 13)\n"
     ]
    }
   ],
   "source": [
    "## Concatenate model outputs and L1 features\n",
    "X_alltrain = np.hstack([allp_alltrain, pca_alltrain])\n",
    "print(X_alltrain.shape)\n",
    "X_test = np.hstack([allp_test, pca_test])\n",
    "print(X_test.shape)"
   ]
  },
  {
   "cell_type": "code",
   "execution_count": 225,
   "metadata": {},
   "outputs": [
    {
     "name": "stdout",
     "output_type": "stream",
     "text": [
      "(19536, 9)\n",
      "(19536,)\n",
      "(4885, 9)\n",
      "(4885,)\n"
     ]
    }
   ],
   "source": [
    "## Split into training and validation set\n",
    "X_train, X_vld, y_train, y_vld = train_test_split(allp_alltrain, y_alltrain,\n",
    "                                                  test_size=0.2, random_state=RAND_STATE)\n",
    "print(X_train.shape)\n",
    "print(y_train.shape)\n",
    "print(X_vld.shape)\n",
    "print(y_vld.shape)"
   ]
  },
  {
   "cell_type": "markdown",
   "metadata": {},
   "source": [
    "### Evaluation: Individual models"
   ]
  },
  {
   "cell_type": "code",
   "execution_count": 13,
   "metadata": {
    "scrolled": true
   },
   "outputs": [
    {
     "name": "stdout",
     "output_type": "stream",
     "text": [
      "Training set:\n",
      "nopp_et1\n",
      "Accuracy = 0.84816, F1 = 0.64476\n",
      "nopp_et2\n",
      "Accuracy = 0.80509, F1 = 0.67500\n",
      "nopp_lgbm1\n",
      "Accuracy = 0.87326, F1 = 0.71587\n",
      "nopp_lgbm2\n",
      "Accuracy = 0.83981, F1 = 0.72021\n",
      "nopp_rf1\n",
      "Accuracy = 0.86282, F1 = 0.68258\n",
      "nopp_rf2\n",
      "Accuracy = 0.83481, F1 = 0.70700\n",
      "nopp_xgb1\n",
      "Accuracy = 0.87326, F1 = 0.71477\n",
      "nopp_xgb2\n",
      "Accuracy = 0.84358, F1 = 0.72367\n",
      "wxpp_knn1\n",
      "Accuracy = 0.84870, F1 = 0.66222\n"
     ]
    }
   ],
   "source": [
    "allypred_alltrain = getPredictions(allp_alltrain)\n",
    "\n",
    "print(\"Training set:\")\n",
    "for colname, ypred_alltrain in allypred_alltrain.iteritems():\n",
    "    print(colname)\n",
    "    print(\"Accuracy = {:.5f}, F1 = {:.5f}\".format(\n",
    "        accuracy_score(y_alltrain, ypred_alltrain),\n",
    "        f1_score(y_alltrain, ypred_alltrain)))"
   ]
  },
  {
   "cell_type": "markdown",
   "metadata": {},
   "source": [
    "### Evaluation: Correlation between model predictions"
   ]
  },
  {
   "cell_type": "code",
   "execution_count": 14,
   "metadata": {},
   "outputs": [
    {
     "data": {
      "image/png": "[encoded data removed]",
      "text/plain": [
       "<Figure size 1008x432 with 4 Axes>"
      ]
     },
     "metadata": {
      "needs_background": "light"
     },
     "output_type": "display_data"
    }
   ],
   "source": [
    "corr_alltrain = allp_alltrain.corr(method='pearson')\n",
    "corr_test = allp_test.corr(method='pearson')\n",
    "\n",
    "fig, (ax1, ax2) = plt.subplots(1, 2, figsize=(14,6))\n",
    "sns.heatmap(corr_alltrain, square=True, annot=True, ax=ax1)\n",
    "sns.heatmap(corr_test, square=True, annot=True, ax=ax2)\n",
    "ax1.set_title(\"Training set\")\n",
    "ax2.set_title(\"Test set\")\n",
    "plt.show()"
   ]
  },
  {
   "cell_type": "markdown",
   "metadata": {},
   "source": [
    "### Evaluation: Wrongly classified samples"
   ]
  },
  {
   "cell_type": "code",
   "execution_count": 25,
   "metadata": {},
   "outputs": [],
   "source": [
    "allypred_alltrain = getPredictions(allp_alltrain)"
   ]
  },
  {
   "cell_type": "markdown",
   "metadata": {},
   "source": [
    "#### Samples classified incorrectly by all models"
   ]
  },
  {
   "cell_type": "code",
   "execution_count": 38,
   "metadata": {},
   "outputs": [
    {
     "name": "stdout",
     "output_type": "stream",
     "text": [
      "       nopp_et1  nopp_et2  nopp_lgbm1  nopp_lgbm2  nopp_rf1  nopp_rf2  \\\n",
      "3           1.0       1.0         1.0         1.0       1.0       1.0   \n",
      "37          1.0       1.0         1.0         1.0       1.0       1.0   \n",
      "69          1.0       1.0         1.0         1.0       1.0       1.0   \n",
      "71          1.0       1.0         1.0         1.0       1.0       1.0   \n",
      "119         1.0       1.0         1.0         1.0       1.0       1.0   \n",
      "...         ...       ...         ...         ...       ...       ...   \n",
      "24306       1.0       1.0         1.0         1.0       1.0       1.0   \n",
      "24358       1.0       1.0         1.0         1.0       1.0       1.0   \n",
      "24360       1.0       1.0         1.0         1.0       1.0       1.0   \n",
      "24402       1.0       1.0         1.0         1.0       1.0       1.0   \n",
      "24411       1.0       1.0         1.0         1.0       1.0       1.0   \n",
      "\n",
      "       nopp_xgb1  nopp_xgb2  wxpp_knn1  \n",
      "3            1.0        1.0        1.0  \n",
      "37           1.0        1.0        1.0  \n",
      "69           1.0        1.0        1.0  \n",
      "71           1.0        1.0        1.0  \n",
      "119          1.0        1.0        1.0  \n",
      "...          ...        ...        ...  \n",
      "24306        1.0        1.0        1.0  \n",
      "24358        1.0        1.0        1.0  \n",
      "24360        1.0        1.0        1.0  \n",
      "24402        1.0        1.0        1.0  \n",
      "24411        1.0        1.0        1.0  \n",
      "\n",
      "[570 rows x 9 columns]\n",
      "       nopp_et1  nopp_et2  nopp_lgbm1  nopp_lgbm2  nopp_rf1  nopp_rf2  \\\n",
      "45          0.0       0.0         0.0         0.0       0.0       0.0   \n",
      "54          0.0       0.0         0.0         0.0       0.0       0.0   \n",
      "81          0.0       0.0         0.0         0.0       0.0       0.0   \n",
      "99          0.0       0.0         0.0         0.0       0.0       0.0   \n",
      "100         0.0       0.0         0.0         0.0       0.0       0.0   \n",
      "...         ...       ...         ...         ...       ...       ...   \n",
      "24268       0.0       0.0         0.0         0.0       0.0       0.0   \n",
      "24276       0.0       0.0         0.0         0.0       0.0       0.0   \n",
      "24303       0.0       0.0         0.0         0.0       0.0       0.0   \n",
      "24339       0.0       0.0         0.0         0.0       0.0       0.0   \n",
      "24353       0.0       0.0         0.0         0.0       0.0       0.0   \n",
      "\n",
      "       nopp_xgb1  nopp_xgb2  wxpp_knn1  \n",
      "45           0.0        0.0        0.0  \n",
      "54           0.0        0.0        0.0  \n",
      "81           0.0        0.0        0.0  \n",
      "99           0.0        0.0        0.0  \n",
      "100          0.0        0.0        0.0  \n",
      "...          ...        ...        ...  \n",
      "24268        0.0        0.0        0.0  \n",
      "24276        0.0        0.0        0.0  \n",
      "24303        0.0        0.0        0.0  \n",
      "24339        0.0        0.0        0.0  \n",
      "24353        0.0        0.0        0.0  \n",
      "\n",
      "[531 rows x 9 columns]\n"
     ]
    }
   ],
   "source": [
    "## Not a single one of the model gets it correct\n",
    "# ypred_prod = allypred_alltrain.apply(np.prod, axis=1)\n",
    "# ypred_sum = allypred_alltrain.apply(np.sum, axis=1)\n",
    "\n",
    "##\n",
    "allwrong_0 = allypred_alltrain.loc[(ypred_prod == 1) & (y_alltrain == 0),:]\n",
    "allwrong_1 = allypred_alltrain.loc[(ypred_sum == 0) & (y_alltrain == 1),:]\n",
    "print(allwrong_0.shape[0])\n",
    "print(allwrong_0.shape[1])"
   ]
  },
  {
   "cell_type": "markdown",
   "metadata": {},
   "source": [
    "### Stacking: Hard voting"
   ]
  },
  {
   "cell_type": "code",
   "execution_count": 39,
   "metadata": {
    "scrolled": true
   },
   "outputs": [
    {
     "name": "stdout",
     "output_type": "stream",
     "text": [
      "Train set:\n",
      "              precision    recall  f1-score   support\n",
      "\n",
      "           0       0.92      0.91      0.91     18560\n",
      "           1       0.73      0.73      0.73      5861\n",
      "\n",
      "    accuracy                           0.87     24421\n",
      "   macro avg       0.82      0.82      0.82     24421\n",
      "weighted avg       0.87      0.87      0.87     24421\n",
      "\n",
      "[[16930  1630]\n",
      " [ 1556  4305]]\n",
      "Accuracy = 0.86954, F1 = 0.72991\n"
     ]
    }
   ],
   "source": [
    "allypred_alltrain = getPredictions(allp_alltrain)\n",
    "\n",
    "# Average the predicted labels\n",
    "voteL1_p_alltrain = allypred_alltrain.mean(axis=1)\n",
    "voteL1_ypred_alltrain = (voteL1_p_alltrain > 0.5).astype(int)\n",
    "\n",
    "print(\"Train set:\")\n",
    "print(classification_report(y_alltrain, voteL1_ypred_alltrain))\n",
    "print(confusion_matrix(y_alltrain, voteL1_ypred_alltrain))\n",
    "print(\"Accuracy = {:.5f}, F1 = {:.5f}\".format(\n",
    "    accuracy_score(y_alltrain, voteL1_ypred_alltrain),\n",
    "    f1_score(y_alltrain, voteL1_ypred_alltrain)))"
   ]
  },
  {
   "cell_type": "code",
   "execution_count": 98,
   "metadata": {},
   "outputs": [
    {
     "name": "stdout",
     "output_type": "stream",
     "text": [
      "   nopp_et2  nopp_lgbm1  nopp_lgbm2  nopp_rf1\n",
      "1  0.244020    0.010171    0.014171  0.088398\n",
      "2  0.180621    0.013157    0.039981  0.029455\n",
      "3  0.333171    0.176918    0.445093  0.208681\n",
      "4  0.017519    0.002298    0.007532  0.004912\n",
      "   nopp_et2  nopp_lgbm1  nopp_lgbm2  nopp_rf1\n",
      "1       0.0         0.0         0.0       0.0\n",
      "2       0.0         0.0         0.0       0.0\n",
      "3       0.0         0.0         0.0       0.0\n",
      "4       0.0         0.0         0.0       0.0 \n",
      "\n",
      "Saved submission file to: dump/submissions/stack1_vote.csv\n"
     ]
    }
   ],
   "source": [
    "# Test set predictions\n",
    "allypred_test = getPredictions(allp_test)\n",
    "\n",
    "voteL1_p_test = allypred_test.mean(axis=1)\n",
    "voteL1_ypred_test = (voteL1_p_test > 0.5).astype(int)\n",
    "saveResult(voteL1_ypred_test, \"stack1_vote.csv\")"
   ]
  },
  {
   "cell_type": "markdown",
   "metadata": {},
   "source": [
    "### Stacking: Soft averaging"
   ]
  },
  {
   "cell_type": "code",
   "execution_count": 41,
   "metadata": {},
   "outputs": [
    {
     "name": "stdout",
     "output_type": "stream",
     "text": [
      "Train set:\n",
      "              precision    recall  f1-score   support\n",
      "\n",
      "           0       0.92      0.91      0.91     18560\n",
      "           1       0.72      0.75      0.73      5861\n",
      "\n",
      "    accuracy                           0.87     24421\n",
      "   macro avg       0.82      0.83      0.82     24421\n",
      "weighted avg       0.87      0.87      0.87     24421\n",
      "\n",
      "[[16803  1757]\n",
      " [ 1444  4417]]\n",
      "Accuracy = 0.86892, F1 = 0.73403\n"
     ]
    }
   ],
   "source": [
    "avgL1_p_alltrain = allp_alltrain.mean(axis=1)\n",
    "avgL1_ypred_alltrain = (avgL1_p_alltrain > 0.5).astype(int)\n",
    "\n",
    "print(\"Train set:\")\n",
    "print(classification_report(y_alltrain, avgL1_ypred_alltrain))\n",
    "print(confusion_matrix(y_alltrain, avgL1_ypred_alltrain))\n",
    "print(\"Accuracy = {:.5f}, F1 = {:.5f}\".format(\n",
    "    accuracy_score(y_alltrain, avgL1_ypred_alltrain),\n",
    "    f1_score(y_alltrain, avgL1_ypred_alltrain)))"
   ]
  },
  {
   "cell_type": "code",
   "execution_count": 128,
   "metadata": {
    "scrolled": true
   },
   "outputs": [
    {
     "name": "stdout",
     "output_type": "stream",
     "text": [
      "Best threshold: 0.57854 (Acc = 87.425) accuracy\n",
      "(0.5785430353666662, 0.8742475738094263)\n"
     ]
    }
   ],
   "source": [
    "print(searchThreshold(avgL1_p_alltrain, y_alltrain))"
   ]
  },
  {
   "cell_type": "code",
   "execution_count": 100,
   "metadata": {},
   "outputs": [
    {
     "name": "stdout",
     "output_type": "stream",
     "text": [
      "Saved submission file to: dump/submissions/stack1_avg.csv\n"
     ]
    }
   ],
   "source": [
    "# Test set predictions\n",
    "avgL1_p_test = allp_test.mean(axis=1)\n",
    "avgL1_ypred_test = (avgL1_p_test > 0.5).astype(int)\n",
    "saveResult(avgL1_ypred_test, \"stack1_avg.csv\")"
   ]
  },
  {
   "cell_type": "markdown",
   "metadata": {},
   "source": [
    "### Stacking: Logistic Regression"
   ]
  },
  {
   "cell_type": "code",
   "execution_count": 19,
   "metadata": {
    "scrolled": true
   },
   "outputs": [
    {
     "name": "stdout",
     "output_type": "stream",
     "text": [
      "Training set\n",
      "Accuracy = 87.257% +/- 0.075\n",
      "F1 = 72.346% +/- 0.179\n",
      "Test set\n",
      "Accuracy = 87.261% +/- 0.133\n",
      "F1 = 72.345% +/- 0.483\n"
     ]
    }
   ],
   "source": [
    "## MODEL 1\n",
    "params_logreg = {\n",
    "    \"C\": 1.0,\n",
    "    \"class_weight\": None,\n",
    "    \"solver\": \"lbfgs\"\n",
    "}\n",
    "logreg = LogisticRegression(**params_logreg)\n",
    "\n",
    "runL1Model(logreg, allp_alltrain, y_alltrain)\n",
    "# saveL1Test(logreg, allp_alltrain, y_alltrain,\n",
    "#            allp_test, \"stack1_logreg1.csv\")"
   ]
  },
  {
   "cell_type": "code",
   "execution_count": 138,
   "metadata": {
    "scrolled": true
   },
   "outputs": [
    {
     "name": "stdout",
     "output_type": "stream",
     "text": [
      "Train set:\n",
      "[[12438  2410]\n",
      " [  654  4034]]\n",
      "Accuracy = 84.31613, F1 = 72.47575\n",
      "Validation set:\n",
      "[[3101  611]\n",
      " [ 181  992]]\n",
      "Accuracy = 83.787, F1 = 71.470\n",
      "\n",
      "Saved submission file to: dump/submissions/stack1_logreg2.csv\n"
     ]
    }
   ],
   "source": [
    "## MODEL 2 (Class imbalance)\n",
    "params_logreg = {\n",
    "    'C': 1.0,\n",
    "    'class_weight': 'balanced',\n",
    "    'solver': 'lbfgs'\n",
    "}\n",
    "logreg = LogisticRegression(**params_logreg)\n",
    "runL1Model(logreg, allp_alltrain, y_alltrain)\n",
    "# saveL1Test(logreg, allp_alltrain, y_alltrain,\n",
    "#            allp_test, \"stack1_logreg2.csv\")"
   ]
  },
  {
   "cell_type": "markdown",
   "metadata": {},
   "source": [
    "### Stacked: MLP"
   ]
  },
  {
   "cell_type": "code",
   "execution_count": 21,
   "metadata": {},
   "outputs": [
    {
     "name": "stdout",
     "output_type": "stream",
     "text": [
      "Iteration 1, loss = 0.34221952\n",
      "Iteration 2, loss = 0.28674691\n",
      "Iteration 3, loss = 0.28630566\n",
      "Iteration 4, loss = 0.28508388\n",
      "Iteration 5, loss = 0.28233765\n",
      "Iteration 6, loss = 0.28287764\n",
      "Iteration 7, loss = 0.28012168\n",
      "Iteration 8, loss = 0.28008007\n",
      "Iteration 9, loss = 0.28107635\n",
      "Iteration 10, loss = 0.28154961\n",
      "Iteration 11, loss = 0.28265340\n",
      "Iteration 12, loss = 0.28048653\n",
      "Iteration 13, loss = 0.27863221\n",
      "Iteration 14, loss = 0.27779995\n",
      "Iteration 15, loss = 0.27895038\n",
      "Iteration 16, loss = 0.28190821\n",
      "Iteration 17, loss = 0.27994723\n",
      "Iteration 18, loss = 0.28033617\n",
      "Iteration 19, loss = 0.27749388\n",
      "Iteration 20, loss = 0.27928953\n",
      "Iteration 21, loss = 0.28047876\n",
      "Iteration 22, loss = 0.27717067\n",
      "Iteration 23, loss = 0.27680499\n",
      "Iteration 24, loss = 0.27933479\n",
      "Iteration 25, loss = 0.27975380\n",
      "Iteration 26, loss = 0.27795119\n",
      "Iteration 27, loss = 0.27619633\n",
      "Iteration 28, loss = 0.27679712\n",
      "Iteration 29, loss = 0.27642537\n",
      "Iteration 30, loss = 0.27881953\n",
      "Iteration 31, loss = 0.27634515\n",
      "Iteration 32, loss = 0.27668544\n",
      "Iteration 33, loss = 0.27799146\n",
      "Iteration 34, loss = 0.27567532\n",
      "Iteration 35, loss = 0.27753611\n",
      "Iteration 36, loss = 0.27794258\n",
      "Iteration 37, loss = 0.27679745\n",
      "Iteration 38, loss = 0.27547752\n",
      "Iteration 39, loss = 0.27559764\n",
      "Iteration 40, loss = 0.27785074\n",
      "Iteration 41, loss = 0.27535798\n",
      "Iteration 42, loss = 0.27768695\n",
      "Iteration 43, loss = 0.27565124\n",
      "Iteration 44, loss = 0.27684365\n",
      "Iteration 45, loss = 0.27533471\n",
      "Iteration 46, loss = 0.27622950\n",
      "Iteration 47, loss = 0.27567837\n",
      "Iteration 48, loss = 0.27663463\n",
      "Iteration 49, loss = 0.27634340\n",
      "Iteration 50, loss = 0.27553083\n",
      "Iteration 51, loss = 0.27426231\n",
      "Iteration 52, loss = 0.27548982\n",
      "Iteration 53, loss = 0.27648818\n",
      "Iteration 54, loss = 0.27563271\n",
      "Iteration 55, loss = 0.27490033\n",
      "Iteration 56, loss = 0.27445421\n",
      "Iteration 57, loss = 0.27706831\n",
      "Iteration 58, loss = 0.27620558\n",
      "Iteration 59, loss = 0.27604995\n",
      "Iteration 60, loss = 0.27506732\n",
      "Iteration 61, loss = 0.27575220\n",
      "Iteration 62, loss = 0.27480344\n",
      "Training loss did not improve more than tol=0.000100 for 10 consecutive epochs. Stopping.\n",
      "Iteration 1, loss = 0.33018999\n",
      "Iteration 2, loss = 0.28828618\n",
      "Iteration 3, loss = 0.28684109\n",
      "Iteration 4, loss = 0.28183794\n",
      "Iteration 5, loss = 0.28260378\n",
      "Iteration 6, loss = 0.28201801\n",
      "Iteration 7, loss = 0.27957801\n",
      "Iteration 8, loss = 0.28030846\n",
      "Iteration 9, loss = 0.28107404\n",
      "Iteration 10, loss = 0.28017249\n",
      "Iteration 11, loss = 0.28070907\n",
      "Iteration 12, loss = 0.27846020\n",
      "Iteration 13, loss = 0.27917231\n",
      "Iteration 14, loss = 0.27788218\n",
      "Iteration 15, loss = 0.27821682\n",
      "Iteration 16, loss = 0.27710870\n",
      "Iteration 17, loss = 0.27836974\n",
      "Iteration 18, loss = 0.27948871\n",
      "Iteration 19, loss = 0.27722103\n",
      "Iteration 20, loss = 0.28057201\n",
      "Iteration 21, loss = 0.27891756\n",
      "Iteration 22, loss = 0.27839539\n",
      "Iteration 23, loss = 0.27629501\n",
      "Iteration 24, loss = 0.27617210\n",
      "Iteration 25, loss = 0.27850443\n",
      "Iteration 26, loss = 0.27757182\n",
      "Iteration 27, loss = 0.27697091\n",
      "Iteration 28, loss = 0.27653766\n",
      "Iteration 29, loss = 0.27668811\n",
      "Iteration 30, loss = 0.27692791\n",
      "Iteration 31, loss = 0.27769108\n",
      "Iteration 32, loss = 0.27669620\n",
      "Iteration 33, loss = 0.27811996\n",
      "Iteration 34, loss = 0.27657731\n",
      "Iteration 35, loss = 0.27551404\n",
      "Iteration 36, loss = 0.27687829\n",
      "Iteration 37, loss = 0.27730415\n",
      "Iteration 38, loss = 0.27521730\n",
      "Iteration 39, loss = 0.27653414\n",
      "Iteration 40, loss = 0.27730583\n",
      "Iteration 41, loss = 0.27629162\n",
      "Iteration 42, loss = 0.27650571\n",
      "Iteration 43, loss = 0.27644906\n",
      "Iteration 44, loss = 0.27731563\n",
      "Iteration 45, loss = 0.27696174\n",
      "Iteration 46, loss = 0.27630139\n",
      "Iteration 47, loss = 0.27412854\n",
      "Iteration 48, loss = 0.27628963\n",
      "Iteration 49, loss = 0.27705306\n",
      "Iteration 50, loss = 0.27781283\n",
      "Iteration 51, loss = 0.27594648\n",
      "Iteration 52, loss = 0.27492410\n",
      "Iteration 53, loss = 0.27662213\n",
      "Iteration 54, loss = 0.27498303\n",
      "Iteration 55, loss = 0.27455748\n",
      "Iteration 56, loss = 0.27556828\n",
      "Iteration 57, loss = 0.27760865\n",
      "Iteration 58, loss = 0.27633061\n",
      "Training loss did not improve more than tol=0.000100 for 10 consecutive epochs. Stopping.\n",
      "Iteration 1, loss = 0.32953376\n",
      "Iteration 2, loss = 0.29030752\n",
      "Iteration 3, loss = 0.28540549\n",
      "Iteration 4, loss = 0.28111362\n",
      "Iteration 5, loss = 0.28177265\n",
      "Iteration 6, loss = 0.28061424\n",
      "Iteration 7, loss = 0.28108051\n",
      "Iteration 8, loss = 0.28279309\n",
      "Iteration 9, loss = 0.28005555\n",
      "Iteration 10, loss = 0.28107479\n",
      "Iteration 11, loss = 0.28113629\n",
      "Iteration 12, loss = 0.28004368\n",
      "Iteration 13, loss = 0.28019338\n",
      "Iteration 14, loss = 0.28261885\n",
      "Iteration 15, loss = 0.27831550\n",
      "Iteration 16, loss = 0.27689667\n",
      "Iteration 17, loss = 0.27858565\n",
      "Iteration 18, loss = 0.27851319\n",
      "Iteration 19, loss = 0.27699103\n",
      "Iteration 20, loss = 0.27791742\n",
      "Iteration 21, loss = 0.27890240\n",
      "Iteration 22, loss = 0.27684062\n",
      "Iteration 23, loss = 0.27721915\n",
      "Iteration 24, loss = 0.27818095\n",
      "Iteration 25, loss = 0.27776165\n",
      "Iteration 26, loss = 0.27893781\n",
      "Iteration 27, loss = 0.27708553\n",
      "Training loss did not improve more than tol=0.000100 for 10 consecutive epochs. Stopping.\n",
      "Iteration 1, loss = 0.32688052\n",
      "Iteration 2, loss = 0.28972000\n",
      "Iteration 3, loss = 0.28677688\n",
      "Iteration 4, loss = 0.28210198\n",
      "Iteration 5, loss = 0.27993414\n",
      "Iteration 6, loss = 0.28085985\n",
      "Iteration 7, loss = 0.28031486\n",
      "Iteration 8, loss = 0.28095900\n",
      "Iteration 9, loss = 0.27937120\n",
      "Iteration 10, loss = 0.28020530\n",
      "Iteration 11, loss = 0.28332780\n",
      "Iteration 12, loss = 0.27934098\n",
      "Iteration 13, loss = 0.27968262\n",
      "Iteration 14, loss = 0.27925291\n",
      "Iteration 15, loss = 0.27829114\n",
      "Iteration 16, loss = 0.27629406\n",
      "Iteration 17, loss = 0.27757899\n",
      "Iteration 18, loss = 0.27805405\n",
      "Iteration 19, loss = 0.27796619\n",
      "Iteration 20, loss = 0.27707658\n",
      "Iteration 21, loss = 0.27848134\n",
      "Iteration 22, loss = 0.27653792\n",
      "Iteration 23, loss = 0.27707745\n",
      "Iteration 24, loss = 0.27671956\n",
      "Iteration 25, loss = 0.27715988\n",
      "Iteration 26, loss = 0.27809708\n",
      "Iteration 27, loss = 0.27617393\n",
      "Iteration 28, loss = 0.27555712\n",
      "Iteration 29, loss = 0.27744982\n",
      "Iteration 30, loss = 0.27818416\n",
      "Iteration 31, loss = 0.27855110\n",
      "Iteration 32, loss = 0.27835770\n",
      "Iteration 33, loss = 0.27599922\n",
      "Iteration 34, loss = 0.27609194\n",
      "Iteration 35, loss = 0.27782188\n",
      "Iteration 36, loss = 0.27633859\n",
      "Iteration 37, loss = 0.27652069\n",
      "Iteration 38, loss = 0.27788303\n",
      "Iteration 39, loss = 0.27621086\n",
      "Training loss did not improve more than tol=0.000100 for 10 consecutive epochs. Stopping.\n",
      "Training set\n",
      "Accuracy = 87.372% +/- 0.036\n",
      "F1 = 70.912% +/- 1.084\n",
      "Test set\n",
      "Accuracy = 87.359% +/- 0.460\n",
      "F1 = 70.758% +/- 2.327\n"
     ]
    }
   ],
   "source": [
    "params_mlp = {\n",
    "    'hidden_layer_sizes': (12,15,18,18,18,12,12),\n",
    "    'max_iter': 1000,\n",
    "    'alpha': 1e-4,\n",
    "    'solver': 'adam',\n",
    "    'verbose': 10,\n",
    "    'random_state': RAND_STATE,\n",
    "    'learning_rate_init': 0.01\n",
    "}\n",
    "mlp = MLPClassifier(**params_mlp)\n",
    "\n",
    "runL1Model(mlp, allp_alltrain, y_alltrain)\n",
    "# saveL1Test(mlp, allp_alltrain, y_alltrain,\n",
    "#            allp_test, \"stack1_mlp1.csv\")"
   ]
  },
  {
   "cell_type": "markdown",
   "metadata": {},
   "source": [
    "### Stacked: Random Forest"
   ]
  },
  {
   "cell_type": "code",
   "execution_count": 229,
   "metadata": {
    "scrolled": true
   },
   "outputs": [
    {
     "name": "stdout",
     "output_type": "stream",
     "text": [
      "##########\n",
      "Fold 0\n",
      "##########\n",
      "Train set:\n",
      "[[14018   830]\n",
      " [ 1539  3149]]\n",
      "Accuracy = 87.874, F1 = 72.666\n",
      "Validation set:\n",
      "[[3531  181]\n",
      " [ 423  750]]\n",
      "Accuracy = 87.636, F1 = 71.293\n",
      "Best threshold: 0.4303 (Accuracy = 88.11)\n",
      "##########\n",
      "Fold 1\n",
      "##########\n",
      "Train set:\n",
      "[[14014   834]\n",
      " [ 1487  3202]]\n",
      "Accuracy = 88.120, F1 = 73.398\n",
      "Validation set:\n",
      "[[3466  246]\n",
      " [ 386  786]]\n",
      "Accuracy = 87.060, F1 = 71.325\n",
      "Best threshold: 0.5067 (Accuracy = 87.12)\n",
      "##########\n",
      "Fold 2\n",
      "##########\n",
      "Train set:\n",
      "[[14002   846]\n",
      " [ 1477  3212]]\n",
      "Accuracy = 88.110, F1 = 73.442\n",
      "Validation set:\n",
      "[[3487  225]\n",
      " [ 415  757]]\n",
      "Accuracy = 86.896, F1 = 70.288\n",
      "Best threshold: 0.5453 (Accuracy = 87.16)\n",
      "##########\n",
      "Fold 3\n",
      "##########\n",
      "Train set:\n",
      "[[13980   868]\n",
      " [ 1476  3213]]\n",
      "Accuracy = 88.002, F1 = 73.273\n",
      "Validation set:\n",
      "[[3478  234]\n",
      " [ 380  792]]\n",
      "Accuracy = 87.428, F1 = 72.066\n",
      "Best threshold: 0.5361 (Accuracy = 87.74)\n",
      "##########\n",
      "Fold 4\n",
      "##########\n",
      "Train set:\n",
      "[[14002   846]\n",
      " [ 1488  3201]]\n",
      "Accuracy = 88.053, F1 = 73.283\n",
      "Validation set:\n",
      "[[3458  254]\n",
      " [ 353  819]]\n",
      "Accuracy = 87.572, F1 = 72.962\n",
      "Best threshold: 0.5030 (Accuracy = 87.65)\n",
      "[0.01415391 0.01292804 0.01008536 ... 0.01413193 0.00910527 0.17493114]\n",
      "Final threshold = 0.5042844950322454\n",
      "[0 0 0 ... 0 0 0]\n",
      "Saved submission file to: dump/submissions/stack1_rf_threshold.csv\n"
     ]
    },
    {
     "data": {
      "text/plain": [
       "[[0.4303069248381333,\n",
       "  0.5067169705302168,\n",
       "  0.5453446242248308,\n",
       "  0.5360525437839199,\n",
       "  0.5030014117841263],\n",
       " [0.881064483111566,\n",
       "  0.8712121212121212,\n",
       "  0.8716216216216216,\n",
       "  0.8773546273546273,\n",
       "  0.8765356265356266]]"
      ]
     },
     "execution_count": 229,
     "metadata": {},
     "output_type": "execute_result"
    }
   ],
   "source": [
    "params_model = {\n",
    "    'n_estimators': 3000,\n",
    "    'min_samples_split': 5,\n",
    "    'min_samples_leaf': 5,\n",
    "    'max_depth': 10,\n",
    "    'max_leaf_nodes': 30,\n",
    "    'bootstrap': True,\n",
    "    'max_samples': 0.8,\n",
    "    'n_jobs': -1,\n",
    "    'random_state': RAND_STATE\n",
    "    # 'class_weight': 'balanced_subsample'\n",
    "}\n",
    "rf = RandomForestClassifier(**params_model)\n",
    "\n",
    "runL1ModelCV(rf, allp_alltrain, y_alltrain, allp_test,\n",
    "             \"stack1_rf_threshold.csv\",\n",
    "             best_threshold=True)"
   ]
  },
  {
   "cell_type": "markdown",
   "metadata": {},
   "source": [
    "### Stacked: ExtraTrees"
   ]
  },
  {
   "cell_type": "code",
   "execution_count": 14,
   "metadata": {},
   "outputs": [
    {
     "name": "stdout",
     "output_type": "stream",
     "text": [
      "Training set\n",
      "Accuracy = 87.538% +/- 0.074\n",
      "F1 = 71.946% +/- 0.295\n",
      "Test set\n",
      "Accuracy = 87.367% +/- 0.260\n",
      "F1 = 71.525% +/- 0.968\n"
     ]
    }
   ],
   "source": [
    "params_et = {\n",
    "    'n_estimators': 10000,\n",
    "    'min_samples_split': 5,\n",
    "    'min_samples_leaf': 5,\n",
    "    'max_depth': 8,\n",
    "    'max_leaf_nodes': 20,\n",
    "    'bootstrap': True,\n",
    "    'max_samples': 0.8,\n",
    "    'n_jobs': -1,\n",
    "    'random_state': RAND_STATE\n",
    "    # 'class_weight': 'balanced_subsample'\n",
    "}\n",
    "et = ExtraTreesClassifier(**params_et)\n",
    "\n",
    "runL1Model(et, allp_alltrain, y_alltrain)\n",
    "# saveL1Test(et, allp_alltrain, y_alltrain,\n",
    "#            allp_test, \"stack1_et1.csv\")"
   ]
  },
  {
   "cell_type": "markdown",
   "metadata": {},
   "source": [
    "### Stacked: XGBoost"
   ]
  },
  {
   "cell_type": "code",
   "execution_count": 15,
   "metadata": {},
   "outputs": [
    {
     "name": "stdout",
     "output_type": "stream",
     "text": [
      "[0]\tvalidation_0-error:0.13756\n",
      "[1]\tvalidation_0-error:0.12876\n",
      "[2]\tvalidation_0-error:0.12631\n",
      "[3]\tvalidation_0-error:0.12631\n",
      "[4]\tvalidation_0-error:0.12467\n",
      "[5]\tvalidation_0-error:0.12528\n",
      "[6]\tvalidation_0-error:0.12467\n",
      "[7]\tvalidation_0-error:0.12487\n",
      "[8]\tvalidation_0-error:0.12467\n",
      "[9]\tvalidation_0-error:0.12467\n",
      "[10]\tvalidation_0-error:0.12528\n",
      "[11]\tvalidation_0-error:0.12405\n",
      "[12]\tvalidation_0-error:0.12569\n",
      "[13]\tvalidation_0-error:0.12446\n",
      "[14]\tvalidation_0-error:0.12344\n",
      "[15]\tvalidation_0-error:0.12405\n",
      "[16]\tvalidation_0-error:0.12344\n",
      "[17]\tvalidation_0-error:0.12405\n",
      "[18]\tvalidation_0-error:0.12405\n",
      "[19]\tvalidation_0-error:0.12385\n",
      "[20]\tvalidation_0-error:0.12446\n",
      "[21]\tvalidation_0-error:0.12364\n",
      "[22]\tvalidation_0-error:0.12405\n",
      "[23]\tvalidation_0-error:0.12487\n",
      "[24]\tvalidation_0-error:0.12508\n",
      "[25]\tvalidation_0-error:0.12405\n",
      "[26]\tvalidation_0-error:0.12426\n",
      "[27]\tvalidation_0-error:0.12385\n",
      "[28]\tvalidation_0-error:0.12508\n",
      "[29]\tvalidation_0-error:0.12405\n",
      "[30]\tvalidation_0-error:0.12385\n",
      "[31]\tvalidation_0-error:0.12323\n",
      "[32]\tvalidation_0-error:0.12344\n",
      "[33]\tvalidation_0-error:0.12385\n",
      "[34]\tvalidation_0-error:0.12405\n",
      "[35]\tvalidation_0-error:0.12405\n",
      "[36]\tvalidation_0-error:0.12405\n",
      "[37]\tvalidation_0-error:0.12385\n",
      "[38]\tvalidation_0-error:0.12405\n",
      "[39]\tvalidation_0-error:0.12426\n",
      "[40]\tvalidation_0-error:0.12446\n",
      "[41]\tvalidation_0-error:0.12487\n",
      "[42]\tvalidation_0-error:0.12487\n",
      "[43]\tvalidation_0-error:0.12385\n",
      "[44]\tvalidation_0-error:0.12364\n",
      "[45]\tvalidation_0-error:0.12364\n",
      "[46]\tvalidation_0-error:0.12364\n",
      "[47]\tvalidation_0-error:0.12405\n",
      "[48]\tvalidation_0-error:0.12426\n",
      "[49]\tvalidation_0-error:0.12426\n",
      "[50]\tvalidation_0-error:0.12426\n",
      "[51]\tvalidation_0-error:0.12364\n",
      "[52]\tvalidation_0-error:0.12405\n",
      "[53]\tvalidation_0-error:0.12385\n",
      "[54]\tvalidation_0-error:0.12446\n",
      "[55]\tvalidation_0-error:0.12426\n",
      "[56]\tvalidation_0-error:0.12426\n",
      "[57]\tvalidation_0-error:0.12426\n",
      "[58]\tvalidation_0-error:0.12446\n",
      "[59]\tvalidation_0-error:0.12405\n",
      "[60]\tvalidation_0-error:0.12446\n",
      "[61]\tvalidation_0-error:0.12426\n",
      "[62]\tvalidation_0-error:0.12487\n",
      "[63]\tvalidation_0-error:0.12467\n",
      "[64]\tvalidation_0-error:0.12467\n",
      "[65]\tvalidation_0-error:0.12446\n",
      "[66]\tvalidation_0-error:0.12467\n",
      "[67]\tvalidation_0-error:0.12446\n",
      "[68]\tvalidation_0-error:0.12446\n",
      "[69]\tvalidation_0-error:0.12467\n",
      "[70]\tvalidation_0-error:0.12426\n",
      "[71]\tvalidation_0-error:0.12426\n",
      "[72]\tvalidation_0-error:0.12467\n",
      "[73]\tvalidation_0-error:0.12446\n",
      "[74]\tvalidation_0-error:0.12426\n",
      "[75]\tvalidation_0-error:0.12426\n",
      "[76]\tvalidation_0-error:0.12487\n",
      "[77]\tvalidation_0-error:0.12426\n",
      "[78]\tvalidation_0-error:0.12426\n",
      "[79]\tvalidation_0-error:0.12385\n",
      "[80]\tvalidation_0-error:0.12405\n",
      "[81]\tvalidation_0-error:0.12405\n",
      "[82]\tvalidation_0-error:0.12385\n",
      "[83]\tvalidation_0-error:0.12364\n",
      "[84]\tvalidation_0-error:0.12344\n",
      "[85]\tvalidation_0-error:0.12385\n",
      "[86]\tvalidation_0-error:0.12385\n",
      "[87]\tvalidation_0-error:0.12364\n",
      "[88]\tvalidation_0-error:0.12385\n",
      "[89]\tvalidation_0-error:0.12364\n",
      "[90]\tvalidation_0-error:0.12385\n",
      "[91]\tvalidation_0-error:0.12385\n",
      "[92]\tvalidation_0-error:0.12385\n",
      "[93]\tvalidation_0-error:0.12364\n",
      "[94]\tvalidation_0-error:0.12385\n",
      "[95]\tvalidation_0-error:0.12385\n",
      "[96]\tvalidation_0-error:0.12385\n",
      "[97]\tvalidation_0-error:0.12405\n",
      "[98]\tvalidation_0-error:0.12405\n",
      "[99]\tvalidation_0-error:0.12426\n",
      "Train set:\n",
      "[[14081   767]\n",
      " [ 1418  3270]]\n",
      "Accuracy = 88.81552, F1 = 74.95702\n",
      "Validation set:\n",
      "[[3503  209]\n",
      " [ 398  775]]\n",
      "Accuracy = 87.574, F1 = 71.859\n",
      "\n"
     ]
    }
   ],
   "source": [
    "params_xgb = {\n",
    "    'max_depth': 10,\n",
    "    'booster': 'dart',\n",
    "    'learning_rate': 0.01, # aka eta\n",
    "    'num_iterations': 10000, # aka n_estimators  \n",
    "    'min_child_weight': 5, # similar to no. of samples in leaf\n",
    "    'gamma': 6, # larger -> more conservative; default=6\n",
    "    'subsample': 0.8,\n",
    "    'colsamples_bytree': 0.8,\n",
    "    'reg_alpha': 0.0,\n",
    "    'reg_lambda': 0.0,\n",
    "    'scale_pos_weight': 1\n",
    "}\n",
    "xgb = XGBClassifier(**params_xgb)\n",
    "runL1Model(xgb, allp_alltrain, y_alltrain, algorithm=\"xgb\")\n",
    "# saveL1Test(xgb, allp_alltrain, y_alltrain,\n",
    "#            allp_test, \"stack1_xgb1.csv\")"
   ]
  },
  {
   "cell_type": "markdown",
   "metadata": {},
   "source": [
    "### Stacked: LGBM"
   ]
  },
  {
   "cell_type": "code",
   "execution_count": 17,
   "metadata": {},
   "outputs": [
    {
     "name": "stdout",
     "output_type": "stream",
     "text": [
      "Training set\n",
      "Accuracy = 89.467% +/- 0.054\n",
      "F1 = 76.373% +/- 0.180\n",
      "Test set\n",
      "Accuracy = 87.142% +/- 0.269\n",
      "F1 = 71.159% +/- 0.824\n"
     ]
    }
   ],
   "source": [
    "params_lgbm = {\n",
    "    'boosting_type': 'dart',\n",
    "    'num_leaves': 30,\n",
    "    'max_depth': 5,\n",
    "    'learning_rate': 0.01, # Increase n_estimators when reducing learning rate\n",
    "    'n_estimators': 5000,\n",
    "    'reg_alpha': 0.01,\n",
    "    'reg_lambda': 0.01,\n",
    "    'min_data_in_leaf': 20,\n",
    "    'bagging_freq': 4,\n",
    "    'bagging_fraction': 0.8,\n",
    "    'feature_fraction': 0.8,\n",
    "    'random_state': RAND_STATE\n",
    "    # 'scale_pos_weight': 3\n",
    "}\n",
    "lgbm = lgb.LGBMClassifier(**params_lgbm)\n",
    "\n",
    "runL1Model(lgbm, allp_alltrain, y_alltrain)\n",
    "# saveL1Test(lgbm, allp_alltrain, y_alltrain,\n",
    "#            allp_test, \"stack1_lgbm1.csv\")"
   ]
  },
  {
   "cell_type": "code",
   "execution_count": null,
   "metadata": {
    "scrolled": true
   },
   "outputs": [
    {
     "name": "stdout",
     "output_type": "stream",
     "text": [
      "Number of all possible combinations = 5184\n",
      "Fitting 5 folds for each of 2500 candidates, totalling 12500 fits\n"
     ]
    },
    {
     "name": "stderr",
     "output_type": "stream",
     "text": [
      "[Parallel(n_jobs=-1)]: Using backend LokyBackend with 24 concurrent workers.\n"
     ]
    }
   ],
   "source": [
    "# Create the random grid\n",
    "params_grid = {\n",
    "    'num_leaves': [20, 30, 40], \n",
    "    'max_depth': [5, 10, 15],\n",
    "    'learning_rate':[0.001, 0.01, 0.1],\n",
    "    'n_estimators': [1000, 5000, 10000],\n",
    "    'min_data_in_leaf': [5, 10, 20, 40],\n",
    "    'reg_alpha': [0, 1e-2, 1e-1, 1],\n",
    "    'reg_lambda': [0, 1e-2, 1e-1, 1]\n",
    "}\n",
    "\n",
    "params_search = {\n",
    "    'n_iter': 2500,\n",
    "    'scoring': 'f1',\n",
    "    'cv': 5,\n",
    "    'verbose': 6,\n",
    "    'random_state': RAND_STATE\n",
    "}\n",
    "\n",
    "## Use the random grid to search for best hyperparameters\n",
    "lgbm = lgb.LGBMClassifier()\n",
    "\n",
    "runRandSearchCV(lgbm, params_grid, params_search,\n",
    "                X_alltrain, y_alltrain, \"stack2_lgbm.pkl\")"
   ]
  },
  {
   "cell_type": "code",
   "execution_count": null,
   "metadata": {},
   "outputs": [],
   "source": [
    "PARAMS_RPATH = \"dump/params/stack2_lgbm.pkl\"\n",
    "with open(PARAMS_RPATH, \"rb\") as f:\n",
    "    params_lgbm = pkl.load(f)\n",
    "print(params_lgbm)"
   ]
  },
  {
   "cell_type": "code",
   "execution_count": 209,
   "metadata": {},
   "outputs": [
    {
     "name": "stdout",
     "output_type": "stream",
     "text": [
      "24220\n",
      "24421\n"
     ]
    }
   ],
   "source": [
    "## Double-check predictions\n",
    "FILE_RPATH1 = \"dump/submissions/stack1_rf1.csv\"\n",
    "FILE_RPATH2 = \"dump/submissions/stack1_et1.csv\"\n",
    "\n",
    "ypred1 = pd.read_csv(FILE_RPATH1)\n",
    "ypred2 = pd.read_csv(FILE_RPATH2)\n",
    "\n",
    "print(np.sum(ypred1.prediction == ypred2.prediction))\n",
    "print(ypred1.shape[0])\n",
    "\n",
    "## REDO LOGREG AND MLP"
   ]
  },
  {
   "cell_type": "markdown",
   "metadata": {},
   "source": [
    "### Stacking\n",
    "#### Base models\n",
    "- Different preprocessing steps for different models\n",
    "- Z-score normalisation for logistic regression and neural networks\n",
    "- No need for monotonic normalisation functions for tree-based models\n",
    "- k-NN: Normalisation based on distance measure\n",
    "- GBMs require parameter tuning! (If learning rate is low it requires more trees)\n",
    "- Use PCA or t-SNE for preprocessing! -> For k-NN?\n",
    "\n",
    "#### Evaluation of base models\n",
    "-  To evaluate correlation between predictions of two models\n",
    "    1. Hamming distance\n",
    "    2. Matthew's correlation coefficient\n",
    "\n",
    "#### Final predictive layer\n",
    "- Majority voting: Wisdom of crowd\n",
    "- Logistic regression: Weighing of the models?\n",
    "- Decision tree:  If this model predicts 1 it is 100% correct else depend on prediction from other model\n",
    "- Neural network: Learn patterns?\n",
    "\n",
    "### Questions\n",
    "- How to use linear regression to blend predictions in a classification task?\n",
    "- Feature importance sorted by Gini index?\n",
    "- Evaluation: Use of micro vs macro scores?\n",
    "- How to deal with class imbalance?\n",
    "\n",
    "### To-do\n",
    "1. EDA: PCA and t-SNE\n",
    "\n",
    "### Thoughts\n",
    "- Models find it easy to differentiate one subset of negative samples"
   ]
  },
  {
   "cell_type": "code",
   "execution_count": 20,
   "metadata": {},
   "outputs": [],
   "source": [
    "### END GAME\n",
    "from sklearn.ensemble import StackingClassifier\n",
    "\n",
    "base_models = [\n",
    "    ('RF', RandomForestClassifier(n_estimators=10, random_state=42)),\n",
    "    ('XGB', XGBClassifier())\n",
    "]\n",
    "\n",
    "layer1 = StackingClassifier(estimators=base_models,\n",
    "                            final_estimator=DecisionTreeClassifier())\n",
    "layer1.fit(X_train, y_train)\n",
    "stack_pred_vld = layer1.predict(X_vld)\n",
    "\n",
    "from sklearn.ensemble import VotingClassifier\n",
    "hard_voting = VotingClassifier(estimators=base_models,\n",
    "                              voting=\"hard\",\n",
    "                              weights=[2,1])\n",
    "hard_voting.fit(X_train, y_train)\n",
    "hardvoting_pred_vld = hard_voting.predict(X_vld)"
   ]
  },
  {
   "cell_type": "markdown",
   "metadata": {},
   "source": [
    "* Stack 1: 9 models (Balance & Imbalance & KNN)\n",
    "* Stack 2: 9 models (Balance & Imbalance & KNN) + 4 PCA features"
   ]
  }
 ],
 "metadata": {
  "kernelspec": {
   "display_name": "Python 3",
   "language": "python",
   "name": "python3"
  },
  "language_info": {
   "codemirror_mode": {
    "name": "ipython",
    "version": 3
   },
   "file_extension": ".py",
   "mimetype": "text/x-python",
   "name": "python",
   "nbconvert_exporter": "python",
   "pygments_lexer": "ipython3",
   "version": "3.6.6"
  }
 },
 "nbformat": 4,
 "nbformat_minor": 4
}
