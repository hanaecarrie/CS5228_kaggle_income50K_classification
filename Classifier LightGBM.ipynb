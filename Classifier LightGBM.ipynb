{
 "cells": [
  {
   "cell_type": "code",
   "execution_count": 35,
   "metadata": {},
   "outputs": [],
   "source": [
    "# Imports\n",
    "import numpy as np\n",
    "import csv\n",
    "import os\n",
    "import pandas as pd\n",
    "import matplotlib.pyplot as plt\n",
    "import seaborn as sns\n",
    "from scipy.stats import randint as sp_randint\n",
    "import sklearn\n",
    "from sklearn.preprocessing import StandardScaler\n",
    "from sklearn.model_selection import cross_val_score\n",
    "from sklearn.ensemble import RandomForestClassifier\n",
    "from sklearn.model_selection import RandomizedSearchCV\n",
    "import lightgbm as lgb  # brew install lightgbm (on MacOS)\n",
    "import pickle"
   ]
  },
  {
   "cell_type": "markdown",
   "metadata": {},
   "source": [
    "# Load data"
   ]
  },
  {
   "cell_type": "code",
   "execution_count": 2,
   "metadata": {},
   "outputs": [
    {
     "name": "stdout",
     "output_type": "stream",
     "text": [
      "['age', 'workclass', 'fnlwgt', 'education', 'education-num', 'marital-status', 'occupation', 'relationship', 'sex', 'capital-gain', 'capital-loss', 'hours-per-week', 'native-country']\n",
      "(24421, 13) (24421, 13)\n"
     ]
    }
   ],
   "source": [
    "train = pd.read_csv(os.path.join(\"cs5228\", \"train.csv\"))\n",
    "X_train = train.drop([\"exceeds50K\"], axis=1)\n",
    "y_train = train[\"exceeds50K\"]\n",
    "X_test = pd.read_csv(os.path.join(\"cs5228\", \"test.csv\"))\n",
    "print(list(X_train.columns))\n",
    "print(X_train.shape, X_test.shape)"
   ]
  },
  {
   "cell_type": "markdown",
   "metadata": {},
   "source": [
    "# Preprocessing"
   ]
  },
  {
   "cell_type": "code",
   "execution_count": 3,
   "metadata": {},
   "outputs": [],
   "source": [
    "# One-hot-encoding\n",
    "X_train = pd.get_dummies(X_train)\n",
    "X_test = pd.get_dummies(X_test)"
   ]
  },
  {
   "cell_type": "markdown",
   "metadata": {},
   "source": [
    "# Parameter optimisation: gridsearch using 5-fold CV for evaluation"
   ]
  },
  {
   "cell_type": "code",
   "execution_count": 21,
   "metadata": {},
   "outputs": [
    {
     "name": "stdout",
     "output_type": "stream",
     "text": [
      "{'objective': ['binary'], 'num_leaves': [5, 10, 20, 50], 'min_data_in_leaf': [0, 10, 20, 40], 'max_depth': [5, 10, 15], 'max_bin': [5, 10, 25, 50], 'learning_rate': [0.001, 0.01, 0.1], 'dart': [True, False], 'reg_alpha': [0, 0.01, 0.1, 1, 10, 100], 'reg_lambda': [0, 0.01, 0.1, 1, 10, 100], 'n_estimators': [1000, 5000, 10000], 'bootstrap': [True, False]}\n"
     ]
    }
   ],
   "source": [
    "## Create a parameter grid for gridsearch\n",
    "\n",
    "# Create the random grid\n",
    "random_grid = {\n",
    "    'objective': ['binary'],\n",
    "    'num_leaves': [5, 10, 20, 50], \n",
    "    'min_data_in_leaf': [0, 10, 20, 40],\n",
    "    'max_depth': [5, 10, 15],\n",
    "    'max_bin': [5, 10, 25, 50],\n",
    "    'learning_rate':[0.001, 0.01, 0.1],\n",
    "    'dart': [True, False],\n",
    "    'reg_alpha': [0, 1e-2, 1e-1, 1, 10, 100],\n",
    "    'reg_lambda': [0, 1e-2, 1e-1, 1, 10, 100],\n",
    "    'n_estimators': [1000, 5000, 10000],\n",
    "    'bootstrap': [True, False]\n",
    "        }\n",
    "               \n",
    "print(random_grid)"
   ]
  },
  {
   "cell_type": "code",
   "execution_count": 23,
   "metadata": {},
   "outputs": [
    {
     "name": "stdout",
     "output_type": "stream",
     "text": [
      "Fitting 5 folds for each of 2000 candidates, totalling 10000 fits\n"
     ]
    },
    {
     "name": "stderr",
     "output_type": "stream",
     "text": [
      "[Parallel(n_jobs=2)]: Using backend LokyBackend with 2 concurrent workers.\n",
      "[Parallel(n_jobs=2)]: Done   9 tasks      | elapsed:  2.7min\n",
      "[Parallel(n_jobs=2)]: Done  46 tasks      | elapsed:  8.6min\n",
      "/Users/hanae/opt/anaconda3/lib/python3.7/site-packages/joblib/externals/loky/process_executor.py:706: UserWarning: A worker stopped while some jobs were given to the executor. This can be caused by a too short worker timeout or by a memory leak.\n",
      "  \"timeout or by a memory leak.\", UserWarning\n",
      "[Parallel(n_jobs=2)]: Done 109 tasks      | elapsed: 29.5min\n",
      "[Parallel(n_jobs=2)]: Done 196 tasks      | elapsed: 51.4min\n",
      "[Parallel(n_jobs=2)]: Done 309 tasks      | elapsed: 73.6min\n",
      "[Parallel(n_jobs=2)]: Done 446 tasks      | elapsed: 110.4min\n",
      "[Parallel(n_jobs=2)]: Done 609 tasks      | elapsed: 162.5min\n",
      "[Parallel(n_jobs=2)]: Done 796 tasks      | elapsed: 207.1min\n",
      "[Parallel(n_jobs=2)]: Done 1009 tasks      | elapsed: 282.6min\n",
      "[Parallel(n_jobs=2)]: Done 1246 tasks      | elapsed: 347.5min\n",
      "[Parallel(n_jobs=2)]: Done 1509 tasks      | elapsed: 414.6min\n",
      "[Parallel(n_jobs=2)]: Done 1796 tasks      | elapsed: 492.4min\n",
      "[Parallel(n_jobs=2)]: Done 2109 tasks      | elapsed: 571.1min\n",
      "[Parallel(n_jobs=2)]: Done 2446 tasks      | elapsed: 664.7min\n",
      "[Parallel(n_jobs=2)]: Done 2809 tasks      | elapsed: 764.7min\n",
      "[Parallel(n_jobs=2)]: Done 3196 tasks      | elapsed: 859.1min\n",
      "[Parallel(n_jobs=2)]: Done 3609 tasks      | elapsed: 956.3min\n",
      "[Parallel(n_jobs=2)]: Done 4046 tasks      | elapsed: 1083.2min\n",
      "[Parallel(n_jobs=2)]: Done 4509 tasks      | elapsed: 1242.1min\n",
      "[Parallel(n_jobs=2)]: Done 4996 tasks      | elapsed: 1386.0min\n",
      "[Parallel(n_jobs=2)]: Done 5509 tasks      | elapsed: 1546.0min\n",
      "[Parallel(n_jobs=2)]: Done 6046 tasks      | elapsed: 1691.5min\n",
      "[Parallel(n_jobs=2)]: Done 6609 tasks      | elapsed: 1758.8min\n",
      "[Parallel(n_jobs=2)]: Done 7196 tasks      | elapsed: 1821.2min\n",
      "[Parallel(n_jobs=2)]: Done 7809 tasks      | elapsed: 1869.3min\n",
      "[Parallel(n_jobs=2)]: Done 8446 tasks      | elapsed: 1927.9min\n",
      "[Parallel(n_jobs=2)]: Done 9109 tasks      | elapsed: 1997.0min\n",
      "[Parallel(n_jobs=2)]: Done 9796 tasks      | elapsed: 2062.6min\n",
      "[Parallel(n_jobs=2)]: Done 10000 out of 10000 | elapsed: 2078.4min finished\n"
     ]
    },
    {
     "data": {
      "text/plain": [
       "{'reg_lambda': 100,\n",
       " 'reg_alpha': 0.1,\n",
       " 'objective': 'binary',\n",
       " 'num_leaves': 10,\n",
       " 'n_estimators': 10000,\n",
       " 'min_data_in_leaf': 20,\n",
       " 'max_depth': 5,\n",
       " 'max_bin': 50,\n",
       " 'learning_rate': 0.01,\n",
       " 'dart': False,\n",
       " 'bootstrap': False}"
      ]
     },
     "execution_count": 23,
     "metadata": {},
     "output_type": "execute_result"
    }
   ],
   "source": [
    "## Use the random grid to search for best hyperparameters\n",
    "\n",
    "# First create the base model to tune\n",
    "gb = lgb.LGBMClassifier()\n",
    "# Random search of parameters, using 3 fold cross validation, search across n_iter different combinations, and use all available cores\n",
    "gb_gridsearch = RandomizedSearchCV(estimator=gb, param_distributions=random_grid, n_jobs=2,\n",
    "                                   scoring=\"f1_weighted\", n_iter=2000, cv=5, verbose=6, random_state=42)\n",
    "# Fit the random searfch model\n",
    "gb_gridsearch.fit(X_train, y_train)\n",
    "# Print best parameters according to gridsearch\n",
    "gb_gridsearch.best_params_"
   ]
  },
  {
   "cell_type": "code",
   "execution_count": 26,
   "metadata": {},
   "outputs": [
    {
     "name": "stderr",
     "output_type": "stream",
     "text": [
      "[Parallel(n_jobs=1)]: Using backend SequentialBackend with 1 concurrent workers.\n"
     ]
    },
    {
     "name": "stdout",
     "output_type": "stream",
     "text": [
      "[CV]  ................................................................\n",
      "[CV] .................................... , score=0.783, total=   2.7s\n",
      "[CV]  ................................................................\n"
     ]
    },
    {
     "name": "stderr",
     "output_type": "stream",
     "text": [
      "[Parallel(n_jobs=1)]: Done   1 out of   1 | elapsed:    2.7s remaining:    0.0s\n"
     ]
    },
    {
     "name": "stdout",
     "output_type": "stream",
     "text": [
      "[CV] .................................... , score=0.806, total=   2.6s\n",
      "[CV]  ................................................................\n"
     ]
    },
    {
     "name": "stderr",
     "output_type": "stream",
     "text": [
      "[Parallel(n_jobs=1)]: Done   2 out of   2 | elapsed:    5.3s remaining:    0.0s\n"
     ]
    },
    {
     "name": "stdout",
     "output_type": "stream",
     "text": [
      "[CV] .................................... , score=0.778, total=   2.8s\n",
      "[CV]  ................................................................\n"
     ]
    },
    {
     "name": "stderr",
     "output_type": "stream",
     "text": [
      "[Parallel(n_jobs=1)]: Done   3 out of   3 | elapsed:    8.2s remaining:    0.0s\n"
     ]
    },
    {
     "name": "stdout",
     "output_type": "stream",
     "text": [
      "[CV] .................................... , score=0.786, total=   2.7s\n",
      "[CV]  ................................................................\n"
     ]
    },
    {
     "name": "stderr",
     "output_type": "stream",
     "text": [
      "[Parallel(n_jobs=1)]: Done   4 out of   4 | elapsed:   10.9s remaining:    0.0s\n"
     ]
    },
    {
     "name": "stdout",
     "output_type": "stream",
     "text": [
      "[CV] .................................... , score=0.776, total=   3.0s\n",
      "0.7859250689261568 0.010824381329230333\n",
      "[CV]  ................................................................\n"
     ]
    },
    {
     "name": "stderr",
     "output_type": "stream",
     "text": [
      "[Parallel(n_jobs=1)]: Done   5 out of   5 | elapsed:   13.9s remaining:    0.0s\n",
      "[Parallel(n_jobs=1)]: Done   5 out of   5 | elapsed:   13.9s finished\n",
      "[Parallel(n_jobs=1)]: Using backend SequentialBackend with 1 concurrent workers.\n"
     ]
    },
    {
     "name": "stdout",
     "output_type": "stream",
     "text": [
      "[CV] .................................... , score=0.816, total=   8.0s\n",
      "[CV]  ................................................................\n"
     ]
    },
    {
     "name": "stderr",
     "output_type": "stream",
     "text": [
      "[Parallel(n_jobs=1)]: Done   1 out of   1 | elapsed:    8.0s remaining:    0.0s\n"
     ]
    },
    {
     "name": "stdout",
     "output_type": "stream",
     "text": [
      "[CV] .................................... , score=0.829, total=   8.1s\n",
      "[CV]  ................................................................\n"
     ]
    },
    {
     "name": "stderr",
     "output_type": "stream",
     "text": [
      "[Parallel(n_jobs=1)]: Done   2 out of   2 | elapsed:   16.2s remaining:    0.0s\n"
     ]
    },
    {
     "name": "stdout",
     "output_type": "stream",
     "text": [
      "[CV] .................................... , score=0.818, total=   8.3s\n",
      "[CV]  ................................................................\n"
     ]
    },
    {
     "name": "stderr",
     "output_type": "stream",
     "text": [
      "[Parallel(n_jobs=1)]: Done   3 out of   3 | elapsed:   24.5s remaining:    0.0s\n"
     ]
    },
    {
     "name": "stdout",
     "output_type": "stream",
     "text": [
      "[CV] .................................... , score=0.819, total=   9.1s\n",
      "[CV]  ................................................................\n"
     ]
    },
    {
     "name": "stderr",
     "output_type": "stream",
     "text": [
      "[Parallel(n_jobs=1)]: Done   4 out of   4 | elapsed:   33.6s remaining:    0.0s\n"
     ]
    },
    {
     "name": "stdout",
     "output_type": "stream",
     "text": [
      "[CV] .................................... , score=0.805, total=  11.5s\n",
      "0.8173340769377951 0.007585348588558676\n",
      "Improvement of 4.00%.\n"
     ]
    },
    {
     "name": "stderr",
     "output_type": "stream",
     "text": [
      "[Parallel(n_jobs=1)]: Done   5 out of   5 | elapsed:   45.2s remaining:    0.0s\n",
      "[Parallel(n_jobs=1)]: Done   5 out of   5 | elapsed:   45.2s finished\n"
     ]
    }
   ],
   "source": [
    "## Evaluate improvment between the base model and the fine-tuned model\n",
    "\n",
    "base_model = RandomForestClassifier(n_estimators=100, random_state=42)\n",
    "cv_score_base = cross_val_score(base_model, X_train, y_train, cv=5, verbose=6, scoring='f1_macro')\n",
    "print(cv_score_base.mean(), cv_score_base.std())\n",
    "\n",
    "best_model = gb_gridsearch.best_estimator_\n",
    "cv_score_best = cross_val_score(best_model, X_train, y_train, cv=5, verbose=6, scoring='f1_macro')\n",
    "print(cv_score_best.mean(), cv_score_best.std())\n",
    "\n",
    "print('Improvement of {:0.2f}%.'.format(100 * (cv_score_best.mean() - cv_score_base.mean()) / cv_score_base.mean()))"
   ]
  },
  {
   "cell_type": "markdown",
   "metadata": {},
   "source": [
    "# Train on whole dataset using optimised set of parameters"
   ]
  },
  {
   "cell_type": "code",
   "execution_count": 29,
   "metadata": {},
   "outputs": [
    {
     "data": {
      "text/plain": [
       "LGBMClassifier(boosting_type='gbdt', bootstrap=False, class_weight=None,\n",
       "               colsample_bytree=1.0, dart=False, importance_type='split',\n",
       "               learning_rate=0.01, max_bin=50, max_depth=5,\n",
       "               min_child_samples=20, min_child_weight=0.001,\n",
       "               min_data_in_leaf=20, min_split_gain=0.0, n_estimators=10000,\n",
       "               n_jobs=-1, num_leaves=10, objective='binary', random_state=42,\n",
       "               reg_alpha=0.1, reg_lambda=100, silent=True, subsample=1.0,\n",
       "               subsample_for_bin=200000, subsample_freq=0)"
      ]
     },
     "execution_count": 29,
     "metadata": {},
     "output_type": "execute_result"
    }
   ],
   "source": [
    "final_model = lgb.LGBMClassifier(**gb_gridsearch.best_params_, random_state=42)\n",
    "final_model.fit(X_train, y_train)"
   ]
  },
  {
   "cell_type": "markdown",
   "metadata": {},
   "source": [
    "# Predict on test and save"
   ]
  },
  {
   "cell_type": "code",
   "execution_count": 30,
   "metadata": {},
   "outputs": [],
   "source": [
    "# issue: one country 'native-country_ Holand-Netherlands' in test but not in train\n",
    "X_test = X_test.drop('native-country_ Holand-Netherlands', axis=1)"
   ]
  },
  {
   "cell_type": "code",
   "execution_count": 33,
   "metadata": {},
   "outputs": [
    {
     "data": {
      "text/html": [
       "<div>\n",
       "<style scoped>\n",
       "    .dataframe tbody tr th:only-of-type {\n",
       "        vertical-align: middle;\n",
       "    }\n",
       "\n",
       "    .dataframe tbody tr th {\n",
       "        vertical-align: top;\n",
       "    }\n",
       "\n",
       "    .dataframe thead th {\n",
       "        text-align: right;\n",
       "    }\n",
       "</style>\n",
       "<table border=\"1\" class=\"dataframe\">\n",
       "  <thead>\n",
       "    <tr style=\"text-align: right;\">\n",
       "      <th></th>\n",
       "      <th>prediction</th>\n",
       "    </tr>\n",
       "    <tr>\n",
       "      <th>id</th>\n",
       "      <th></th>\n",
       "    </tr>\n",
       "  </thead>\n",
       "  <tbody>\n",
       "    <tr>\n",
       "      <td>1</td>\n",
       "      <td>0</td>\n",
       "    </tr>\n",
       "    <tr>\n",
       "      <td>2</td>\n",
       "      <td>0</td>\n",
       "    </tr>\n",
       "    <tr>\n",
       "      <td>3</td>\n",
       "      <td>0</td>\n",
       "    </tr>\n",
       "    <tr>\n",
       "      <td>4</td>\n",
       "      <td>0</td>\n",
       "    </tr>\n",
       "    <tr>\n",
       "      <td>5</td>\n",
       "      <td>0</td>\n",
       "    </tr>\n",
       "  </tbody>\n",
       "</table>\n",
       "</div>"
      ],
      "text/plain": [
       "    prediction\n",
       "id            \n",
       "1            0\n",
       "2            0\n",
       "3            0\n",
       "4            0\n",
       "5            0"
      ]
     },
     "execution_count": 33,
     "metadata": {},
     "output_type": "execute_result"
    },
    {
     "data": {
      "image/png": "[encoded data removed]",
      "text/plain": [
       "<Figure size 360x360 with 1 Axes>"
      ]
     },
     "metadata": {
      "needs_background": "light"
     },
     "output_type": "display_data"
    },
    {
     "data": {
      "image/png": "[encoded data removed]",
      "text/plain": [
       "<Figure size 360x360 with 1 Axes>"
      ]
     },
     "metadata": {
      "needs_background": "light"
     },
     "output_type": "display_data"
    }
   ],
   "source": [
    "y_test = final_model.predict(X_test)\n",
    "\n",
    "res = {}\n",
    "res[\"prediction\"] = y_test\n",
    "df = pd.DataFrame(res)\n",
    "df.index += 1\n",
    "df.index.name = 'id'\n",
    "sns.catplot(x=\"prediction\", kind=\"count\", data=df)\n",
    "sns.catplot(x=\"exceeds50K\", kind=\"count\", data=train)\n",
    "df.head()"
   ]
  },
  {
   "cell_type": "code",
   "execution_count": 36,
   "metadata": {},
   "outputs": [],
   "source": [
    "# experience name\n",
    "experience = 'LightGBM_simpleonehotencodingonly'\n",
    "\n",
    "if not os.path.exists(os.path.join('dump', experience)):\n",
    "    os.mkdir(os.path.join('dump', experience))\n",
    "\n",
    "X_train.to_csv(os.path.join('dump', experience, 'X_train.csv'))\n",
    "X_test.to_csv(os.path.join('dump', experience, 'X_test.csv'))\n",
    "pickle.dump(final_model, open(os.path.join('dump', experience, 'model'), 'wb'))\n",
    "df.to_csv(os.path.join('dump', experience, experience+'.csv'))"
   ]
  },
  {
   "cell_type": "code",
   "execution_count": null,
   "metadata": {},
   "outputs": [],
   "source": []
  }
 ],
 "metadata": {
  "kernelspec": {
   "display_name": "Python 3",
   "language": "python",
   "name": "python3"
  },
  "language_info": {
   "codemirror_mode": {
    "name": "ipython",
    "version": 3
   },
   "file_extension": ".py",
   "mimetype": "text/x-python",
   "name": "python",
   "nbconvert_exporter": "python",
   "pygments_lexer": "ipython3",
   "version": "3.7.4"
  }
 },
 "nbformat": 4,
 "nbformat_minor": 2
}
